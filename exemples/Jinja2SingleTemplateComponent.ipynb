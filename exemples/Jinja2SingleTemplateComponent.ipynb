{
 "cells": [
  {
   "cell_type": "code",
   "execution_count": 1,
   "metadata": {},
   "outputs": [],
   "source": [
    "from openai import OpenAI\n",
    "import os\n",
    "import logging\n",
    "from jinja2 import Environment, select_autoescape\n",
    "import json\n",
    "from miniautogen.pipeline.pipeline import PipelineComponent\n",
    "from miniautogen.llms.llm_client import OpenAIClient, LiteLLMClient\n",
    "from dotenv import load_dotenv\n",
    "load_dotenv()\n",
    "\n",
    "api_key=os.getenv('OPENAI_API_KEY')\n",
    "openai_client = OpenAIClient(api_key=api_key)\n",
    "litellm_client = LiteLLMClient(model=\"ollama/llama2\")"
   ]
  },
  {
   "cell_type": "code",
   "execution_count": 2,
   "metadata": {},
   "outputs": [],
   "source": [
    "from miniautogen.chat.chat import Chat\n",
    "from miniautogen.agent.agent import Agent\n",
    "from miniautogen.chat.chatadmin import ChatAdmin\n",
    "from miniautogen.pipeline.pipeline import Pipeline\n",
    "from miniautogen.pipeline.components import (\n",
    "    UserResponseComponent,\n",
    "    AgentReplyComponent,\n",
    "    TerminateChatComponent,\n",
    "    Jinja2SingleTemplateComponent,\n",
    "    UpdateNextAgentComponent,\n",
    "    NextAgentMessageComponent,\n",
    "    LLMResponseComponent\n",
    ")\n",
    "\n",
    "template_str = \"\"\"\n",
    "[\n",
    "  {\"role\": \"system\", \"content\": \"{{ agent.role }}\"}{% for message in messages %},\n",
    "  {% if message.sender_id == agent.agent_id %}\n",
    "    {\"role\": \"assistant\", \"content\": {{ message.message | tojson | safe }}}\n",
    "  {% else %}\n",
    "    {\"role\": \"user\", \"content\": {{ message.message | tojson | safe }}}\n",
    "  {% endif %}\n",
    "{% endfor %}\n",
    "]\n",
    "\"\"\"\n",
    "\n",
    "# Cria uma instância do componente com o template\n",
    "jinja_component = Jinja2SingleTemplateComponent()\n",
    "jinja_component.set_template_str(template_str)\n",
    "\n",
    "UpdateNextAgent = UpdateNextAgentComponent()\n",
    "UpdateNextAgent.set_next_agent_id(\"Bruno\")\n",
    "\n",
    "NextAgentMessage = NextAgentMessageComponent()\n",
    "NextAgentMessage.set_alternative_next(UpdateNextAgent)\n",
    "\n",
    "# Configuração dos Pipelines\n",
    "pipeline_user = Pipeline([UserResponseComponent()])\n",
    "pipeline_jinja = Pipeline([jinja_component, LLMResponseComponent(litellm_client)])\n",
    "pipeline_admin = Pipeline(\n",
    "    [NextAgentMessage, AgentReplyComponent(), TerminateChatComponent()])\n",
    "\n",
    "# Setup do ambiente de teste\n",
    "chat = Chat()\n",
    "json_data = {\n",
    "    'agent_id': 'Bruno',\n",
    "    'name': 'Bruno',\n",
    "    'role': 'user'\n",
    "}\n",
    "\n",
    "# Criação de Agentes\n",
    "agent1 = Agent.from_json(json_data)\n",
    "agent1.pipeline = pipeline_user  # Atribuindo o pipeline ao agente\n",
    "\n",
    "agent2 = Agent(\"dev\", \"Carlos\", \"Python senior Developer\")\n",
    "agent2.pipeline = pipeline_jinja  # Atribuindo o pipeline_llm ao segundo agente\n",
    "\n",
    "\n",
    "# Adicionando os agentes ao chat\n",
    "chat.add_agent(agent1)\n",
    "chat.add_agent(agent2)\n",
    "\n",
    "# Adição de mensagens de teste ao chat\n",
    "json_messages = [\n",
    "    {'sender_id': 'user4', 'message': 'Que bom ouvir isso!'},\n",
    "    {'sender_id': 'user5', 'message': 'Vamos continuar Bruno.',\n",
    "        'additional_info': {'topic': 'chat'}},\n",
    "]\n",
    "chat.add_messages(json_messages)\n",
    "\n",
    "# Criação e configuração do ChatAdmin\n",
    "chat_admin = ChatAdmin(\"admin\", \"Admin\", \"admin_role\",\n",
    "                       pipeline_admin, chat, \"manage_chat\", 10)"
   ]
  },
  {
   "cell_type": "code",
   "execution_count": 3,
   "metadata": {},
   "outputs": [
    {
     "name": "stderr",
     "output_type": "stream",
     "text": [
      "INFO:miniautogen.chat.chatadmin:Chat Admin started.\n",
      "INFO:miniautogen.chat.chatadmin:Executing round 1\n",
      "INFO:miniautogen.chat.chatadmin:Executing round 2\n"
     ]
    },
    {
     "name": "stdout",
     "output_type": "stream",
     "text": [
      "Olá dev, quem é voc?E\n",
      "[{'role': 'system', 'content': 'Python senior Developer'}, {'role': 'user', 'content': 'Que bom ouvir isso!'}, {'role': 'user', 'content': 'Vamos continuar Bruno.'}, {'role': 'user', 'content': 'Olá dev, quem é voc?E'}]\n"
     ]
    },
    {
     "name": "stderr",
     "output_type": "stream",
     "text": [
      "INFO:httpx:HTTP Request: POST https://api.openai.com/v1/chat/completions \"HTTP/1.1 200 OK\"\n",
      "INFO:miniautogen.chat.chatadmin:Executing round 3\n"
     ]
    },
    {
     "name": "stdout",
     "output_type": "stream",
     "text": [
      "Olá, sou um assistente de inteligência artificial treinado para ajudar em várias tarefas, incluindo programação em Python.\n",
      "Nenhum agente correspondente encontrado na última mensagem.\n",
      "Próximo agente atualizado para: Bruno\n"
     ]
    },
    {
     "name": "stderr",
     "output_type": "stream",
     "text": [
      "INFO:miniautogen.chat.chatadmin:Chat Admin stopped.\n",
      "INFO:miniautogen.chat.chatadmin:Chat Admin stopped.\n"
     ]
    },
    {
     "name": "stdout",
     "output_type": "stream",
     "text": [
      "terminate\n",
      "Encerrando chat...\n"
     ]
    }
   ],
   "source": [
    "chat_admin.run()"
   ]
  },
  {
   "cell_type": "code",
   "execution_count": 4,
   "metadata": {},
   "outputs": [
    {
     "data": {
      "text/plain": [
       "[{'id': 1,\n",
       "  'sender_id': 'user4',\n",
       "  'message': 'Que bom ouvir isso!',\n",
       "  'timestamp': Timestamp('2024-01-02 19:24:05.525563'),\n",
       "  'additional_info': None},\n",
       " {'id': 2,\n",
       "  'sender_id': 'user5',\n",
       "  'message': 'Vamos continuar Bruno.',\n",
       "  'timestamp': Timestamp('2024-01-02 19:24:05.527200'),\n",
       "  'additional_info': {'topic': 'chat'}},\n",
       " {'id': 3,\n",
       "  'sender_id': 'Bruno',\n",
       "  'message': 'Olá dev, quem é voc?E',\n",
       "  'timestamp': Timestamp('2024-01-02 19:24:13.705231'),\n",
       "  'additional_info': None},\n",
       " {'id': 4,\n",
       "  'sender_id': 'dev',\n",
       "  'message': 'Olá, sou um assistente de inteligência artificial treinado para ajudar em várias tarefas, incluindo programação em Python.',\n",
       "  'timestamp': Timestamp('2024-01-02 19:24:17.275782'),\n",
       "  'additional_info': None},\n",
       " {'id': 5,\n",
       "  'sender_id': 'Bruno',\n",
       "  'message': 'terminate',\n",
       "  'timestamp': Timestamp('2024-01-02 19:24:29.021759'),\n",
       "  'additional_info': None}]"
      ]
     },
     "execution_count": 4,
     "metadata": {},
     "output_type": "execute_result"
    }
   ],
   "source": [
    "chat.get_messages().to_dict(orient='records')"
   ]
  },
  {
   "cell_type": "code",
   "execution_count": null,
   "metadata": {},
   "outputs": [],
   "source": []
  }
 ],
 "metadata": {
  "kernelspec": {
   "display_name": ".venv",
   "language": "python",
   "name": "python3"
  },
  "language_info": {
   "codemirror_mode": {
    "name": "ipython",
    "version": 3
   },
   "file_extension": ".py",
   "mimetype": "text/x-python",
   "name": "python",
   "nbconvert_exporter": "python",
   "pygments_lexer": "ipython3",
   "version": "3.11.6"
  }
 },
 "nbformat": 4,
 "nbformat_minor": 2
}
