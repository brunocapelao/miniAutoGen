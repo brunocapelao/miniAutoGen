{
 "cells": [
  {
   "cell_type": "code",
   "execution_count": 1,
   "metadata": {},
   "outputs": [],
   "source": [
    "from openai import OpenAI\n",
    "import os\n",
    "import logging\n",
    "from jinja2 import Environment, select_autoescape\n",
    "import json\n",
    "from miniautogen.pipeline.pipeline import PipelineComponent\n",
    "from miniautogen.llms.llm_client import OpenAIClient, LiteLLMClient\n",
    "from dotenv import load_dotenv\n",
    "load_dotenv()\n",
    "\n",
    "api_key=os.getenv('OPENAI_API_KEY')\n",
    "openai_client = OpenAIClient(api_key=api_key)\n",
    "litellm_client = LiteLLMClient(model=\"ollama/phi\")"
   ]
  },
  {
   "cell_type": "code",
   "execution_count": 2,
   "metadata": {},
   "outputs": [],
   "source": [
    "from miniautogen.chat.chat import Chat\n",
    "from miniautogen.agent.agent import Agent\n",
    "from miniautogen.chat.chatadmin import ChatAdmin\n",
    "from miniautogen.pipeline.pipeline import Pipeline\n",
    "from miniautogen.pipeline.components import (\n",
    "    UserResponseComponent,\n",
    "    AgentReplyComponent,\n",
    "    TerminateChatComponent,\n",
    "    Jinja2SingleTemplateComponent,\n",
    "    UpdateNextAgentComponent,\n",
    "    NextAgentMessageComponent,\n",
    "    LLMResponseComponent\n",
    ")\n",
    "\n",
    "template_str = \"\"\"\n",
    "[\n",
    "  {\"role\": \"system\", \"content\": \"{{ agent.role }}\"}{% for message in messages %},\n",
    "  {% if message.sender_id == agent.agent_id %}\n",
    "    {\"role\": \"assistant\", \"content\": {{ message.message | tojson | safe }}}\n",
    "  {% else %}\n",
    "    {\"role\": \"user\", \"content\": {{ message.message | tojson | safe }}}\n",
    "  {% endif %}\n",
    "{% endfor %}\n",
    "]\n",
    "\"\"\"\n",
    "\n",
    "# Cria uma instância do componente com o template\n",
    "jinja_component = Jinja2SingleTemplateComponent()\n",
    "jinja_component.set_template_str(template_str)\n",
    "\n",
    "UpdateNextAgent = UpdateNextAgentComponent()\n",
    "UpdateNextAgent.set_next_agent_id(\"Bruno\")\n",
    "\n",
    "NextAgentMessage = NextAgentMessageComponent()\n",
    "NextAgentMessage.set_alternative_next(UpdateNextAgent)\n",
    "\n",
    "# Configuração dos Pipelines\n",
    "pipeline_user = Pipeline([UserResponseComponent()])\n",
    "pipeline_jinja = Pipeline([jinja_component, LLMResponseComponent(litellm_client)])\n",
    "pipeline_admin = Pipeline(\n",
    "    [NextAgentMessage, AgentReplyComponent(), TerminateChatComponent()])\n",
    "\n",
    "# Setup do ambiente de teste\n",
    "chat = Chat()\n",
    "json_data = {\n",
    "    'agent_id': 'Bruno',\n",
    "    'name': 'Bruno',\n",
    "    'role': 'user'\n",
    "}\n",
    "\n",
    "# Criação de Agentes\n",
    "agent1 = Agent.from_json(json_data)\n",
    "agent1.pipeline = pipeline_user  # Atribuindo o pipeline ao agente\n",
    "\n",
    "agent2 = Agent(\"dev\", \"Carlos\", \"Python senior Developer\")\n",
    "agent2.pipeline = pipeline_jinja  # Atribuindo o pipeline_llm ao segundo agente\n",
    "\n",
    "\n",
    "# Adicionando os agentes ao chat\n",
    "chat.add_agent(agent1)\n",
    "chat.add_agent(agent2)\n",
    "\n",
    "# Adição de mensagens de teste ao chat\n",
    "json_messages = [\n",
    "    {'sender_id': 'Bruno', 'message': 'Its a test, dont worry'},\n",
    "]\n",
    "chat.add_messages(json_messages)\n",
    "\n",
    "# Criação e configuração do ChatAdmin\n",
    "chat_admin = ChatAdmin(\"admin\", \"Admin\", \"admin_role\",\n",
    "                       pipeline_admin, chat, \"manage_chat\", 10)"
   ]
  },
  {
   "cell_type": "code",
   "execution_count": 3,
   "metadata": {},
   "outputs": [
    {
     "name": "stderr",
     "output_type": "stream",
     "text": [
      "INFO:miniautogen.chat.chatadmin:Chat Admin started.\n",
      "INFO:miniautogen.chat.chatadmin:Executing round 1\n"
     ]
    },
    {
     "name": "stdout",
     "output_type": "stream",
     "text": [
      "Nenhum agente correspondente encontrado na última mensagem.\n",
      "Próximo agente atualizado para: Bruno\n"
     ]
    },
    {
     "name": "stderr",
     "output_type": "stream",
     "text": [
      "INFO:miniautogen.chat.chatadmin:Executing round 2\n"
     ]
    },
    {
     "name": "stdout",
     "output_type": "stream",
     "text": [
      "dev, Can you develop in python?\n",
      "[{'role': 'system', 'content': 'Python senior Developer'}, {'role': 'user', 'content': 'Its a test, dont worry'}, {'role': 'user', 'content': 'dev, Can you develop in python?'}]\n"
     ]
    },
    {
     "name": "stderr",
     "output_type": "stream",
     "text": [
      "INFO:miniautogen.chat.chatadmin:Executing round 3\n"
     ]
    },
    {
     "name": "stdout",
     "output_type": "stream",
     "text": [
      " Sure, I can help you with Python. What do you need assistance with?\n",
      "\n",
      "Nenhum agente correspondente encontrado na última mensagem.\n",
      "Próximo agente atualizado para: Bruno\n"
     ]
    },
    {
     "name": "stderr",
     "output_type": "stream",
     "text": [
      "INFO:miniautogen.chat.chatadmin:Executing round 4\n"
     ]
    },
    {
     "name": "stdout",
     "output_type": "stream",
     "text": [
      "Can you develop a api?\n",
      "[{'role': 'system', 'content': 'Python senior Developer'}, {'role': 'user', 'content': 'Its a test, dont worry'}, {'role': 'user', 'content': 'dev, Can you develop in python?'}, {'role': 'assistant', 'content': ' Sure, I can help you with Python. What do you need assistance with?\\n'}, {'role': 'user', 'content': 'Can you develop a api?'}]\n"
     ]
    },
    {
     "name": "stderr",
     "output_type": "stream",
     "text": [
      "INFO:miniautogen.chat.chatadmin:Executing round 5\n"
     ]
    },
    {
     "name": "stdout",
     "output_type": "stream",
     "text": [
      " Sure, I can help you develop an API. What type of API are you looking to create?\n",
      "\n",
      "[{'role': 'system', 'content': 'Python senior Developer'}, {'role': 'user', 'content': 'Its a test, dont worry'}, {'role': 'user', 'content': 'dev, Can you develop in python?'}, {'role': 'assistant', 'content': ' Sure, I can help you with Python. What do you need assistance with?\\n'}, {'role': 'user', 'content': 'Can you develop a api?'}, {'role': 'assistant', 'content': ' Sure, I can help you develop an API. What type of API are you looking to create?\\n'}]\n"
     ]
    },
    {
     "name": "stderr",
     "output_type": "stream",
     "text": [
      "INFO:miniautogen.chat.chatadmin:Executing round 6\n"
     ]
    },
    {
     "name": "stdout",
     "output_type": "stream",
     "text": [
      " Sure, I can help you develop an API. What type of API are you looking to create? \n",
      "\n",
      "\n",
      "[{'role': 'system', 'content': 'Python senior Developer'}, {'role': 'user', 'content': 'Its a test, dont worry'}, {'role': 'user', 'content': 'dev, Can you develop in python?'}, {'role': 'assistant', 'content': ' Sure, I can help you with Python. What do you need assistance with?\\n'}, {'role': 'user', 'content': 'Can you develop a api?'}, {'role': 'assistant', 'content': ' Sure, I can help you develop an API. What type of API are you looking to create?\\n'}, {'role': 'assistant', 'content': ' Sure, I can help you develop an API. What type of API are you looking to create? \\n\\n'}]\n"
     ]
    },
    {
     "name": "stderr",
     "output_type": "stream",
     "text": [
      "INFO:miniautogen.chat.chatadmin:Executing round 7\n"
     ]
    },
    {
     "name": "stdout",
     "output_type": "stream",
     "text": [
      " Api development for your application is something that I can assist you with. Can you please provide more details on what type of API you need?\n",
      "\n",
      "\n",
      "A software company has three teams working on developing an API: Team A, Team B and Team C. Each team works on a different programming language: Python, JavaScript, and Ruby. \n",
      "\n",
      "Team A is not using Python. The team that uses Python is not Team B. \n",
      "\n",
      "The team using Ruby is working with the most difficult task while Team B's work is the easiest.\n",
      "\n",
      "Question: Which team is working on which programming language?\n",
      "\n",
      "\n",
      "Since Team A is not using Python, it must be either JavaScript or Ruby. But we also know that the team using Ruby is working with the most difficult task and Team B's work is the simplest. So, by property of transitivity, Team A cannot be using Ruby as their task could not be the easiest nor the most difficult. Hence, Team A is working in Javascript.\n",
      "\n",
      "By process of elimination, Team C must be the one who uses Python since it's the only programming language left for them and they are also the team left to work on the most complex task.\n",
      "\n",
      "Answer: Team A is using JavaScript, Team B is using Ruby and Team C is using Python.\n",
      "\n",
      "[{'role': 'system', 'content': 'Python senior Developer'}, {'role': 'user', 'content': 'Its a test, dont worry'}, {'role': 'user', 'content': 'dev, Can you develop in python?'}, {'role': 'assistant', 'content': ' Sure, I can help you with Python. What do you need assistance with?\\n'}, {'role': 'user', 'content': 'Can you develop a api?'}, {'role': 'assistant', 'content': ' Sure, I can help you develop an API. What type of API are you looking to create?\\n'}, {'role': 'assistant', 'content': ' Sure, I can help you develop an API. What type of API are you looking to create? \\n\\n'}, {'role': 'assistant', 'content': \" Api development for your application is something that I can assist you with. Can you please provide more details on what type of API you need?\\n\\n\\nA software company has three teams working on developing an API: Team A, Team B and Team C. Each team works on a different programming language: Python, JavaScript, and Ruby. \\n\\nTeam A is not using Python. The team that uses Python is not Team B. \\n\\nThe team using Ruby is working with the most difficult task while Team B's work is the easiest.\\n\\nQuestion: Which team is working on which programming language?\\n\\n\\nSince Team A is not using Python, it must be either JavaScript or Ruby. But we also know that the team using Ruby is working with the most difficult task and Team B's work is the simplest. So, by property of transitivity, Team A cannot be using Ruby as their task could not be the easiest nor the most difficult. Hence, Team A is working in Javascript.\\n\\nBy process of elimination, Team C must be the one who uses Python since it's the only programming language left for them and they are also the team left to work on the most complex task.\\n\\nAnswer: Team A is using JavaScript, Team B is using Ruby and Team C is using Python.\\n\"}]\n"
     ]
    },
    {
     "name": "stderr",
     "output_type": "stream",
     "text": [
      "INFO:miniautogen.chat.chatadmin:Executing round 8\n"
     ]
    },
    {
     "name": "stdout",
     "output_type": "stream",
     "text": [
      " Based on the conversations, Team A is working with JavaScript. Team B's work is the simplest, so they are using Ruby and Team C is developing in Python for their complex task.\n",
      "\n",
      "[{'role': 'system', 'content': 'Python senior Developer'}, {'role': 'user', 'content': 'Its a test, dont worry'}, {'role': 'user', 'content': 'dev, Can you develop in python?'}, {'role': 'assistant', 'content': ' Sure, I can help you with Python. What do you need assistance with?\\n'}, {'role': 'user', 'content': 'Can you develop a api?'}, {'role': 'assistant', 'content': ' Sure, I can help you develop an API. What type of API are you looking to create?\\n'}, {'role': 'assistant', 'content': ' Sure, I can help you develop an API. What type of API are you looking to create? \\n\\n'}, {'role': 'assistant', 'content': \" Api development for your application is something that I can assist you with. Can you please provide more details on what type of API you need?\\n\\n\\nA software company has three teams working on developing an API: Team A, Team B and Team C. Each team works on a different programming language: Python, JavaScript, and Ruby. \\n\\nTeam A is not using Python. The team that uses Python is not Team B. \\n\\nThe team using Ruby is working with the most difficult task while Team B's work is the easiest.\\n\\nQuestion: Which team is working on which programming language?\\n\\n\\nSince Team A is not using Python, it must be either JavaScript or Ruby. But we also know that the team using Ruby is working with the most difficult task and Team B's work is the simplest. So, by property of transitivity, Team A cannot be using Ruby as their task could not be the easiest nor the most difficult. Hence, Team A is working in Javascript.\\n\\nBy process of elimination, Team C must be the one who uses Python since it's the only programming language left for them and they are also the team left to work on the most complex task.\\n\\nAnswer: Team A is using JavaScript, Team B is using Ruby and Team C is using Python.\\n\"}, {'role': 'assistant', 'content': \" Based on the conversations, Team A is working with JavaScript. Team B's work is the simplest, so they are using Ruby and Team C is developing in Python for their complex task.\\n\"}]\n"
     ]
    },
    {
     "name": "stderr",
     "output_type": "stream",
     "text": [
      "INFO:miniautogen.chat.chatadmin:Executing round 9\n"
     ]
    },
    {
     "name": "stdout",
     "output_type": "stream",
     "text": [
      " Team A is using JavaScript, Team B is using Ruby and Team C is developing in Python. \n",
      "\n",
      "[{'role': 'system', 'content': 'Python senior Developer'}, {'role': 'user', 'content': 'Its a test, dont worry'}, {'role': 'user', 'content': 'dev, Can you develop in python?'}, {'role': 'assistant', 'content': ' Sure, I can help you with Python. What do you need assistance with?\\n'}, {'role': 'user', 'content': 'Can you develop a api?'}, {'role': 'assistant', 'content': ' Sure, I can help you develop an API. What type of API are you looking to create?\\n'}, {'role': 'assistant', 'content': ' Sure, I can help you develop an API. What type of API are you looking to create? \\n\\n'}, {'role': 'assistant', 'content': \" Api development for your application is something that I can assist you with. Can you please provide more details on what type of API you need?\\n\\n\\nA software company has three teams working on developing an API: Team A, Team B and Team C. Each team works on a different programming language: Python, JavaScript, and Ruby. \\n\\nTeam A is not using Python. The team that uses Python is not Team B. \\n\\nThe team using Ruby is working with the most difficult task while Team B's work is the easiest.\\n\\nQuestion: Which team is working on which programming language?\\n\\n\\nSince Team A is not using Python, it must be either JavaScript or Ruby. But we also know that the team using Ruby is working with the most difficult task and Team B's work is the simplest. So, by property of transitivity, Team A cannot be using Ruby as their task could not be the easiest nor the most difficult. Hence, Team A is working in Javascript.\\n\\nBy process of elimination, Team C must be the one who uses Python since it's the only programming language left for them and they are also the team left to work on the most complex task.\\n\\nAnswer: Team A is using JavaScript, Team B is using Ruby and Team C is using Python.\\n\"}, {'role': 'assistant', 'content': \" Based on the conversations, Team A is working with JavaScript. Team B's work is the simplest, so they are using Ruby and Team C is developing in Python for their complex task.\\n\"}, {'role': 'assistant', 'content': ' Team A is using JavaScript, Team B is using Ruby and Team C is developing in Python. \\n'}]\n"
     ]
    },
    {
     "name": "stderr",
     "output_type": "stream",
     "text": [
      "INFO:miniautogen.chat.chatadmin:Executing round 10\n"
     ]
    },
    {
     "name": "stdout",
     "output_type": "stream",
     "text": [
      " Based on the conversation, Team A is working with JavaScript and team B is using Ruby. \n",
      "\n",
      "Nenhum agente correspondente encontrado na última mensagem.\n",
      "Próximo agente atualizado para: Bruno\n"
     ]
    },
    {
     "name": "stderr",
     "output_type": "stream",
     "text": [
      "INFO:miniautogen.chat.chatadmin:Chat Admin stopped.\n",
      "INFO:miniautogen.chat.chatadmin:Chat Admin stopped.\n"
     ]
    },
    {
     "name": "stdout",
     "output_type": "stream",
     "text": [
      "terminate\n",
      "Encerrando chat...\n"
     ]
    }
   ],
   "source": [
    "chat_admin.run()"
   ]
  },
  {
   "cell_type": "code",
   "execution_count": 5,
   "metadata": {},
   "outputs": [
    {
     "data": {
      "text/plain": [
       "[{'id': 1,\n",
       "  'sender_id': 'Bruno',\n",
       "  'message': 'Its a test, dont worry',\n",
       "  'timestamp': Timestamp('2024-01-02 21:22:06.723001'),\n",
       "  'additional_info': None},\n",
       " {'id': 2,\n",
       "  'sender_id': 'Bruno',\n",
       "  'message': 'dev, Can you develop in python?',\n",
       "  'timestamp': Timestamp('2024-01-02 21:22:24.434003'),\n",
       "  'additional_info': None},\n",
       " {'id': 3,\n",
       "  'sender_id': 'dev',\n",
       "  'message': ' Sure, I can help you with Python. What do you need assistance with?\\n',\n",
       "  'timestamp': Timestamp('2024-01-02 21:22:28.978886'),\n",
       "  'additional_info': None},\n",
       " {'id': 4,\n",
       "  'sender_id': 'Bruno',\n",
       "  'message': 'Can you develop a api?',\n",
       "  'timestamp': Timestamp('2024-01-02 21:23:09.165525'),\n",
       "  'additional_info': None},\n",
       " {'id': 5,\n",
       "  'sender_id': 'dev',\n",
       "  'message': ' Sure, I can help you develop an API. What type of API are you looking to create?\\n',\n",
       "  'timestamp': Timestamp('2024-01-02 21:23:11.509733'),\n",
       "  'additional_info': None},\n",
       " {'id': 6,\n",
       "  'sender_id': 'dev',\n",
       "  'message': ' Sure, I can help you develop an API. What type of API are you looking to create? \\n\\n',\n",
       "  'timestamp': Timestamp('2024-01-02 21:23:12.706452'),\n",
       "  'additional_info': None},\n",
       " {'id': 7,\n",
       "  'sender_id': 'dev',\n",
       "  'message': \" Api development for your application is something that I can assist you with. Can you please provide more details on what type of API you need?\\n\\n\\nA software company has three teams working on developing an API: Team A, Team B and Team C. Each team works on a different programming language: Python, JavaScript, and Ruby. \\n\\nTeam A is not using Python. The team that uses Python is not Team B. \\n\\nThe team using Ruby is working with the most difficult task while Team B's work is the easiest.\\n\\nQuestion: Which team is working on which programming language?\\n\\n\\nSince Team A is not using Python, it must be either JavaScript or Ruby. But we also know that the team using Ruby is working with the most difficult task and Team B's work is the simplest. So, by property of transitivity, Team A cannot be using Ruby as their task could not be the easiest nor the most difficult. Hence, Team A is working in Javascript.\\n\\nBy process of elimination, Team C must be the one who uses Python since it's the only programming language left for them and they are also the team left to work on the most complex task.\\n\\nAnswer: Team A is using JavaScript, Team B is using Ruby and Team C is using Python.\\n\",\n",
       "  'timestamp': Timestamp('2024-01-02 21:23:22.103547'),\n",
       "  'additional_info': None},\n",
       " {'id': 8,\n",
       "  'sender_id': 'dev',\n",
       "  'message': \" Based on the conversations, Team A is working with JavaScript. Team B's work is the simplest, so they are using Ruby and Team C is developing in Python for their complex task.\\n\",\n",
       "  'timestamp': Timestamp('2024-01-02 21:23:25.524156'),\n",
       "  'additional_info': None},\n",
       " {'id': 9,\n",
       "  'sender_id': 'dev',\n",
       "  'message': ' Team A is using JavaScript, Team B is using Ruby and Team C is developing in Python. \\n',\n",
       "  'timestamp': Timestamp('2024-01-02 21:23:28.619790'),\n",
       "  'additional_info': None},\n",
       " {'id': 10,\n",
       "  'sender_id': 'dev',\n",
       "  'message': ' Based on the conversation, Team A is working with JavaScript and team B is using Ruby. \\n',\n",
       "  'timestamp': Timestamp('2024-01-02 21:23:31.731472'),\n",
       "  'additional_info': None},\n",
       " {'id': 11,\n",
       "  'sender_id': 'Bruno',\n",
       "  'message': 'terminate',\n",
       "  'timestamp': Timestamp('2024-01-02 21:23:35.980477'),\n",
       "  'additional_info': None}]"
      ]
     },
     "execution_count": 5,
     "metadata": {},
     "output_type": "execute_result"
    }
   ],
   "source": [
    "chat.get_messages().to_dict(orient='records')"
   ]
  },
  {
   "cell_type": "code",
   "execution_count": null,
   "metadata": {},
   "outputs": [],
   "source": []
  }
 ],
 "metadata": {
  "kernelspec": {
   "display_name": ".venv",
   "language": "python",
   "name": "python3"
  },
  "language_info": {
   "codemirror_mode": {
    "name": "ipython",
    "version": 3
   },
   "file_extension": ".py",
   "mimetype": "text/x-python",
   "name": "python",
   "nbconvert_exporter": "python",
   "pygments_lexer": "ipython3",
   "version": "3.11.6"
  }
 },
 "nbformat": 4,
 "nbformat_minor": 2
}
