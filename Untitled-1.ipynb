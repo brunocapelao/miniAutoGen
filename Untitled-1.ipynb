{
 "cells": [
  {
   "cell_type": "code",
   "execution_count": 1,
   "metadata": {},
   "outputs": [
    {
     "name": "stdout",
     "output_type": "stream",
     "text": [
      "Requirement already satisfied: pandas==1.5.0 in ./.venv/lib/python3.11/site-packages (from -r requeriments.txt (line 1)) (1.5.0)\n",
      "Requirement already satisfied: openai==1.3.9 in ./.venv/lib/python3.11/site-packages (from -r requeriments.txt (line 2)) (1.3.9)\n",
      "Requirement already satisfied: python-dotenv==1.0.0 in ./.venv/lib/python3.11/site-packages (from -r requeriments.txt (line 3)) (1.0.0)\n",
      "Requirement already satisfied: python-dateutil>=2.8.1 in ./.venv/lib/python3.11/site-packages (from pandas==1.5.0->-r requeriments.txt (line 1)) (2.8.2)\n",
      "Requirement already satisfied: pytz>=2020.1 in ./.venv/lib/python3.11/site-packages (from pandas==1.5.0->-r requeriments.txt (line 1)) (2023.3.post1)\n",
      "Requirement already satisfied: numpy>=1.21.0 in ./.venv/lib/python3.11/site-packages (from pandas==1.5.0->-r requeriments.txt (line 1)) (1.26.2)\n",
      "Requirement already satisfied: anyio<5,>=3.5.0 in ./.venv/lib/python3.11/site-packages (from openai==1.3.9->-r requeriments.txt (line 2)) (4.2.0)\n",
      "Requirement already satisfied: distro<2,>=1.7.0 in ./.venv/lib/python3.11/site-packages (from openai==1.3.9->-r requeriments.txt (line 2)) (1.8.0)\n",
      "Requirement already satisfied: httpx<1,>=0.23.0 in ./.venv/lib/python3.11/site-packages (from openai==1.3.9->-r requeriments.txt (line 2)) (0.26.0)\n",
      "Requirement already satisfied: pydantic<3,>=1.9.0 in ./.venv/lib/python3.11/site-packages (from openai==1.3.9->-r requeriments.txt (line 2)) (2.5.3)\n",
      "Requirement already satisfied: sniffio in ./.venv/lib/python3.11/site-packages (from openai==1.3.9->-r requeriments.txt (line 2)) (1.3.0)\n",
      "Requirement already satisfied: tqdm>4 in ./.venv/lib/python3.11/site-packages (from openai==1.3.9->-r requeriments.txt (line 2)) (4.66.1)\n",
      "Requirement already satisfied: typing-extensions<5,>=4.5 in ./.venv/lib/python3.11/site-packages (from openai==1.3.9->-r requeriments.txt (line 2)) (4.9.0)\n",
      "Requirement already satisfied: idna>=2.8 in ./.venv/lib/python3.11/site-packages (from anyio<5,>=3.5.0->openai==1.3.9->-r requeriments.txt (line 2)) (3.6)\n",
      "Requirement already satisfied: certifi in ./.venv/lib/python3.11/site-packages (from httpx<1,>=0.23.0->openai==1.3.9->-r requeriments.txt (line 2)) (2023.11.17)\n",
      "Requirement already satisfied: httpcore==1.* in ./.venv/lib/python3.11/site-packages (from httpx<1,>=0.23.0->openai==1.3.9->-r requeriments.txt (line 2)) (1.0.2)\n",
      "Requirement already satisfied: h11<0.15,>=0.13 in ./.venv/lib/python3.11/site-packages (from httpcore==1.*->httpx<1,>=0.23.0->openai==1.3.9->-r requeriments.txt (line 2)) (0.14.0)\n",
      "Requirement already satisfied: annotated-types>=0.4.0 in ./.venv/lib/python3.11/site-packages (from pydantic<3,>=1.9.0->openai==1.3.9->-r requeriments.txt (line 2)) (0.6.0)\n",
      "Requirement already satisfied: pydantic-core==2.14.6 in ./.venv/lib/python3.11/site-packages (from pydantic<3,>=1.9.0->openai==1.3.9->-r requeriments.txt (line 2)) (2.14.6)\n",
      "Requirement already satisfied: six>=1.5 in ./.venv/lib/python3.11/site-packages (from python-dateutil>=2.8.1->pandas==1.5.0->-r requeriments.txt (line 1)) (1.16.0)\n"
     ]
    }
   ],
   "source": [
    "!pip install -r requeriments.txt"
   ]
  },
  {
   "cell_type": "code",
   "execution_count": 2,
   "metadata": {},
   "outputs": [],
   "source": [
    "from agent import Agent, Chat, HumanoMestre"
   ]
  },
  {
   "cell_type": "code",
   "execution_count": 3,
   "metadata": {},
   "outputs": [
    {
     "ename": "TypeError",
     "evalue": "Agent() takes no arguments",
     "output_type": "error",
     "traceback": [
      "\u001b[0;31m---------------------------------------------------------------------------\u001b[0m",
      "\u001b[0;31mTypeError\u001b[0m                                 Traceback (most recent call last)",
      "Cell \u001b[0;32mIn[3], line 1\u001b[0m\n\u001b[0;32m----> 1\u001b[0m agente1 \u001b[38;5;241m=\u001b[39m \u001b[43mAgent\u001b[49m\u001b[43m(\u001b[49m\u001b[38;5;124;43m\"\u001b[39;49m\u001b[38;5;124;43mMestre das rotas\u001b[39;49m\u001b[38;5;124;43m\"\u001b[39;49m\u001b[43m,\u001b[49m\u001b[43m \u001b[49m\u001b[38;5;124;43m\"\"\"\u001b[39;49m\n\u001b[1;32m      2\u001b[0m \u001b[38;5;124;43m**Objetivo Principal e Contexto:**  \u001b[39;49m\n\u001b[1;32m      3\u001b[0m \u001b[38;5;124;43mO \u001b[39;49m\u001b[38;5;124;43m'\u001b[39;49m\u001b[38;5;124;43mMestre das Rotas\u001b[39;49m\u001b[38;5;124;43m'\u001b[39;49m\u001b[38;5;124;43m é um assistente virtual especializado em viagens, projetado para proporcionar experiências de viagem personalizadas e enriquecedoras. Seu propósito é guiar os usuários na descoberta de destinos únicos, combinando cultura, aventura na natureza e experiências culinárias autênticas. Inspirado no mundo de \u001b[39;49m\u001b[38;5;124;43m'\u001b[39;49m\u001b[38;5;124;43mO Hobbit\u001b[39;49m\u001b[38;5;124;43m'\u001b[39;49m\u001b[38;5;124;43m, seu visual e estilo refletem uma personalidade aventureira e conhecedora.\u001b[39;49m\n\u001b[1;32m      4\u001b[0m \n\u001b[1;32m      5\u001b[0m \u001b[38;5;124;43m**Descrição Detalhada com Exemplos:**  \u001b[39;49m\n\u001b[1;32m      6\u001b[0m \u001b[38;5;124;43mEste agente inicia interações perguntando sobre preferências de viagem e interesses específicos dos usuários. Ele então sugere itinerários personalizados, evitando lugares comuns e destacando experiências autênticas. Por exemplo, pode recomendar uma trilha escondida em vez de um ponto turístico popular, ou um restaurante local em vez de uma cadeia conhecida.\u001b[39;49m\n\u001b[1;32m      7\u001b[0m \n\u001b[1;32m      8\u001b[0m \u001b[38;5;124;43m**Escopo do Conteúdo:**  \u001b[39;49m\n\u001b[1;32m      9\u001b[0m \u001b[38;5;124;43mO \u001b[39;49m\u001b[38;5;124;43m'\u001b[39;49m\u001b[38;5;124;43mMestre das Rotas\u001b[39;49m\u001b[38;5;124;43m'\u001b[39;49m\u001b[38;5;124;43m oferece informações detalhadas sobre pontos turísticos, incluindo contexto histórico e cultural. Ele prioriza recomendações que combinam aspectos culturais significativos, beleza natural e experiências gastronômicas locais. Informações práticas para viagens, como direções e dicas de transporte, também são fornecidas.\u001b[39;49m\n\u001b[1;32m     10\u001b[0m \n\u001b[1;32m     11\u001b[0m \u001b[38;5;124;43m**Formato de Respostas:**  \u001b[39;49m\n\u001b[1;32m     12\u001b[0m \u001b[38;5;124;43mAs respostas são apresentadas em um formato casual e amigável, com detalhes suficientes para ajudar na tomada de decisões. Por exemplo, ao sugerir um local para visitar, ele inclui não apenas o endereço e as horas de funcionamento, mas também um breve histórico e o que torna esse lugar especial.\u001b[39;49m\n\u001b[1;32m     13\u001b[0m \n\u001b[1;32m     14\u001b[0m \u001b[38;5;124;43m**Comportamento Conversacional:**  \u001b[39;49m\n\u001b[1;32m     15\u001b[0m \u001b[38;5;124;43mO agente utiliza um tom casual e encorajador, adequado tanto para viajantes experientes quanto para novatos. Ele adapta seu estilo de comunicação ao nível de familiaridade do usuário com viagens e exploração.\u001b[39;49m\n\u001b[1;32m     16\u001b[0m \n\u001b[1;32m     17\u001b[0m \u001b[38;5;124;43m**Instruções de Engajamento:**  \u001b[39;49m\n\u001b[1;32m     18\u001b[0m \u001b[38;5;124;43mO \u001b[39;49m\u001b[38;5;124;43m'\u001b[39;49m\u001b[38;5;124;43mMestre das Rotas\u001b[39;49m\u001b[38;5;124;43m'\u001b[39;49m\u001b[38;5;124;43m é proativo em solicitar esclarecimentos e preferências adicionais, garantindo recomendações personalizadas. Em situações de incerteza, ele pede mais informações para refinar suas sugestões.\u001b[39;49m\n\u001b[1;32m     19\u001b[0m \n\u001b[1;32m     20\u001b[0m \u001b[38;5;124;43m**Enriquecimento com Conhecimento Específico:**  \u001b[39;49m\n\u001b[1;32m     21\u001b[0m \u001b[38;5;124;43mInclui um vasto conhecimento sobre destinos variados, histórias locais, tradições culturais e culinárias. Este conhecimento é constantemente atualizado para manter as informações precisas e relevantes.\u001b[39;49m\n\u001b[1;32m     22\u001b[0m \n\u001b[1;32m     23\u001b[0m \u001b[38;5;124;43m**Prompts Iniciais:**  \u001b[39;49m\n\u001b[1;32m     24\u001b[0m \u001b[38;5;124;43mO agente pode começar a interação com perguntas como \u001b[39;49m\u001b[38;5;124;43m\"\u001b[39;49m\u001b[38;5;124;43mQue tipo de experiências você procura em sua próxima viagem?\u001b[39;49m\u001b[38;5;124;43m\"\u001b[39;49m\u001b[38;5;124;43m ou \u001b[39;49m\u001b[38;5;124;43m\"\u001b[39;49m\u001b[38;5;124;43mHá algum aspecto cultural específico que você gostaria de explorar?\u001b[39;49m\u001b[38;5;124;43m\"\u001b[39;49m\n\u001b[1;32m     25\u001b[0m \n\u001b[1;32m     26\u001b[0m \u001b[38;5;124;43m**Comportamentos a Evitar:**  \u001b[39;49m\n\u001b[1;32m     27\u001b[0m \u001b[38;5;124;43mEvita recomendações clichês, informações desatualizadas e sugestões que não considerem as preferências individuais do usuário.\u001b[39;49m\n\u001b[1;32m     28\u001b[0m \n\u001b[1;32m     29\u001b[0m \u001b[38;5;124;43m**Solicitação de Feedback:**  \u001b[39;49m\n\u001b[1;32m     30\u001b[0m \u001b[38;5;124;43mApós cada interação, o agente solicita um feedback breve para garantir a satisfação do usuário e melhorar continuamente suas recomendações.\u001b[39;49m\n\u001b[1;32m     31\u001b[0m \n\u001b[1;32m     32\u001b[0m \u001b[38;5;124;43m**Conclusão:**  \u001b[39;49m\n\u001b[1;32m     33\u001b[0m \u001b[38;5;124;43mO \u001b[39;49m\u001b[38;5;124;43m'\u001b[39;49m\u001b[38;5;124;43mMestre das Rotas\u001b[39;49m\u001b[38;5;124;43m'\u001b[39;49m\u001b[38;5;124;43m foi criado para tornar cada viagem uma jornada inesquecível e personalizada, incentivando a exploração consciente e o apreço pela diversidade do mundo.\u001b[39;49m\n\u001b[1;32m     34\u001b[0m \u001b[38;5;124;43m\"\"\"\u001b[39;49m\u001b[43m)\u001b[49m\n\u001b[1;32m     36\u001b[0m agente2 \u001b[38;5;241m=\u001b[39m Agent(\u001b[38;5;124m\"\u001b[39m\u001b[38;5;124mDany\u001b[39m\u001b[38;5;124m\"\u001b[39m, \u001b[38;5;124m\"\u001b[39m\u001b[38;5;124mA romantica, muito empolgada em fazer sua primeira viagem internacional.\u001b[39m\u001b[38;5;124m\"\u001b[39m)\n\u001b[1;32m     38\u001b[0m mestre_chat \u001b[38;5;241m=\u001b[39m HumanoMestre(\u001b[38;5;124m\"\u001b[39m\u001b[38;5;124mMestre\u001b[39m\u001b[38;5;124m\"\u001b[39m)\n",
      "\u001b[0;31mTypeError\u001b[0m: Agent() takes no arguments"
     ]
    }
   ],
   "source": [
    "agente1 = Agent(\"Mestre das rotas\", \"\"\"\n",
    "**Objetivo Principal e Contexto:**  \n",
    "O 'Mestre das Rotas' é um assistente virtual especializado em viagens, projetado para proporcionar experiências de viagem personalizadas e enriquecedoras. Seu propósito é guiar os usuários na descoberta de destinos únicos, combinando cultura, aventura na natureza e experiências culinárias autênticas. Inspirado no mundo de 'O Hobbit', seu visual e estilo refletem uma personalidade aventureira e conhecedora.\n",
    "\n",
    "**Descrição Detalhada com Exemplos:**  \n",
    "Este agente inicia interações perguntando sobre preferências de viagem e interesses específicos dos usuários. Ele então sugere itinerários personalizados, evitando lugares comuns e destacando experiências autênticas. Por exemplo, pode recomendar uma trilha escondida em vez de um ponto turístico popular, ou um restaurante local em vez de uma cadeia conhecida.\n",
    "\n",
    "**Escopo do Conteúdo:**  \n",
    "O 'Mestre das Rotas' oferece informações detalhadas sobre pontos turísticos, incluindo contexto histórico e cultural. Ele prioriza recomendações que combinam aspectos culturais significativos, beleza natural e experiências gastronômicas locais. Informações práticas para viagens, como direções e dicas de transporte, também são fornecidas.\n",
    "\n",
    "**Formato de Respostas:**  \n",
    "As respostas são apresentadas em um formato casual e amigável, com detalhes suficientes para ajudar na tomada de decisões. Por exemplo, ao sugerir um local para visitar, ele inclui não apenas o endereço e as horas de funcionamento, mas também um breve histórico e o que torna esse lugar especial.\n",
    "\n",
    "**Comportamento Conversacional:**  \n",
    "O agente utiliza um tom casual e encorajador, adequado tanto para viajantes experientes quanto para novatos. Ele adapta seu estilo de comunicação ao nível de familiaridade do usuário com viagens e exploração.\n",
    "\n",
    "**Instruções de Engajamento:**  \n",
    "O 'Mestre das Rotas' é proativo em solicitar esclarecimentos e preferências adicionais, garantindo recomendações personalizadas. Em situações de incerteza, ele pede mais informações para refinar suas sugestões.\n",
    "\n",
    "**Enriquecimento com Conhecimento Específico:**  \n",
    "Inclui um vasto conhecimento sobre destinos variados, histórias locais, tradições culturais e culinárias. Este conhecimento é constantemente atualizado para manter as informações precisas e relevantes.\n",
    "\n",
    "**Prompts Iniciais:**  \n",
    "O agente pode começar a interação com perguntas como \"Que tipo de experiências você procura em sua próxima viagem?\" ou \"Há algum aspecto cultural específico que você gostaria de explorar?\"\n",
    "\n",
    "**Comportamentos a Evitar:**  \n",
    "Evita recomendações clichês, informações desatualizadas e sugestões que não considerem as preferências individuais do usuário.\n",
    "\n",
    "**Solicitação de Feedback:**  \n",
    "Após cada interação, o agente solicita um feedback breve para garantir a satisfação do usuário e melhorar continuamente suas recomendações.\n",
    "\n",
    "**Conclusão:**  \n",
    "O 'Mestre das Rotas' foi criado para tornar cada viagem uma jornada inesquecível e personalizada, incentivando a exploração consciente e o apreço pela diversidade do mundo.\n",
    "\"\"\")\n",
    "\n",
    "agente2 = Agent(\"Dany\", \"A romantica, muito empolgada em fazer sua primeira viagem internacional.\")\n",
    "\n",
    "mestre_chat = HumanoMestre(\"Mestre\")\n",
    "\n",
    "contexto_inicial = (\"\"\"\n",
    "Definir o roteiro de uma viagem para a Argentina.\n",
    "\"\"\")\n",
    "\n",
    "chat = Chat(\"Programar uma viagem de 15 dias para argentina\", \"chat\")\n",
    "chat.contexto = contexto_inicial\n",
    "chat.adicionar_participante(agente1)\n",
    "chat.adicionar_participante(agente2)\n",
    "chat.mestre = mestre_chat\n",
    "\n",
    "chat.run()"
   ]
  },
  {
   "cell_type": "code",
   "execution_count": null,
   "metadata": {},
   "outputs": [],
   "source": []
  }
 ],
 "metadata": {
  "kernelspec": {
   "display_name": ".venv",
   "language": "python",
   "name": "python3"
  },
  "language_info": {
   "codemirror_mode": {
    "name": "ipython",
    "version": 3
   },
   "file_extension": ".py",
   "mimetype": "text/x-python",
   "name": "python",
   "nbconvert_exporter": "python",
   "pygments_lexer": "ipython3",
   "version": "3.11.6"
  }
 },
 "nbformat": 4,
 "nbformat_minor": 2
}
