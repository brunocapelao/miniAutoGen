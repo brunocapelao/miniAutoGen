{
 "cells": [
  {
   "cell_type": "code",
   "execution_count": 3,
   "metadata": {},
   "outputs": [
    {
     "ename": "ModuleNotFoundError",
     "evalue": "No module named 'agent'",
     "output_type": "error",
     "traceback": [
      "\u001b[0;31m---------------------------------------------------------------------------\u001b[0m",
      "\u001b[0;31mModuleNotFoundError\u001b[0m                       Traceback (most recent call last)",
      "Cell \u001b[0;32mIn[3], line 1\u001b[0m\n\u001b[0;32m----> 1\u001b[0m \u001b[38;5;28;01mfrom\u001b[39;00m \u001b[38;5;21;01magent\u001b[39;00m \u001b[38;5;28;01mimport\u001b[39;00m AutomatedAgent, HumanAgent, HumanMestre\n\u001b[1;32m      2\u001b[0m \u001b[38;5;28;01mfrom\u001b[39;00m \u001b[38;5;21;01mchat\u001b[39;00m \u001b[38;5;28;01mimport\u001b[39;00m Chat\n",
      "\u001b[0;31mModuleNotFoundError\u001b[0m: No module named 'agent'"
     ]
    }
   ],
   "source": [
    "from agent import AutomatedAgent, HumanAgent, HumanMestre\n",
    "from chat import Chat"
   ]
  },
  {
   "cell_type": "code",
   "execution_count": null,
   "metadata": {},
   "outputs": [
    {
     "name": "stdout",
     "output_type": "stream",
     "text": [
      "Estado do chat salvo em JSON no diretório chat.\n",
      "Chat iniciado. Objetivo atual: Discutir um destino de viagem\n",
      "Escolha o próximo agente a participar:\n",
      "1: Bruno\n",
      "2: Carlos - Agente de Turismo\n",
      "Bruno, você recebeu uma nova mensagem:\n",
      "Seu Nome: Bruno\n",
      "Outros Participantes: Carlos - Agente de Turismo (Você é um agente de turismo.)\n",
      "Objetivo conversa: Discutir um destino de viagem\n",
      "Contexto Atual: \n",
      "Histórico da Conversa: []\n",
      "\n",
      "\n",
      "(Bruno) Fala carlos, tudo bem? gostaria de marcar uma viagem para a Argentina, o que você me recomenda?\n",
      "Escolha o próximo agente a participar:\n",
      "1: Bruno\n",
      "2: Carlos - Agente de Turismo\n",
      "(Carlos - Agente de Turismo) Bruno, tudo bem? Fico feliz em saber que você está interessado em viajar para a Argentina. Este país tem muitas opções incríveis para explorar. Para começar, eu recomendaria a cidade de Buenos Aires. É uma cidade vibrante, cheia de cultura, arquitetura histórica, tango e uma comida deliciosa. Você pode visitar pontos turísticos como a Casa Rosada, o bairro de San Telmo e o famoso Teatro Colón. Se você gosta de vinho, não pode deixar de visitar Mendoza, que é famosa por suas vinícolas e degustações. Outro lugar imperdível é a região da Patagônia, com suas paisagens deslumbrantes e a possibilidade de fazer trekkings incríveis. O que você acha dessas opções?\n",
      "Escolha o próximo agente a participar:\n",
      "1: Bruno\n",
      "2: Carlos - Agente de Turismo\n",
      "Bruno, você recebeu uma nova mensagem:\n",
      "Seu Nome: Bruno\n",
      "Outros Participantes: Carlos - Agente de Turismo (Você é um agente de turismo.)\n",
      "Objetivo conversa: Discutir um destino de viagem\n",
      "Contexto Atual: \n",
      "Histórico da Conversa: [{'role': 'Bruno', 'content': 'Fala carlos, tudo bem? gostaria de marcar uma viagem para a Argentina, o que você me recomenda?'}, {'role': 'Carlos - Agente de Turismo', 'content': 'Bruno, tudo bem? Fico feliz em saber que você está interessado em viajar para a Argentina. Este país tem muitas opções incríveis para explorar. Para começar, eu recomendaria a cidade de Buenos Aires. É uma cidade vibrante, cheia de cultura, arquitetura histórica, tango e uma comida deliciosa. Você pode visitar pontos turísticos como a Casa Rosada, o bairro de San Telmo e o famoso Teatro Colón. Se você gosta de vinho, não pode deixar de visitar Mendoza, que é famosa por suas vinícolas e degustações. Outro lugar imperdível é a região da Patagônia, com suas paisagens deslumbrantes e a possibilidade de fazer trekkings incríveis. O que você acha dessas opções?'}]\n",
      "\n",
      "\n",
      "(Bruno) Gostei da sugestão, qual melhor restaurante de lá?\n",
      "Escolha o próximo agente a participar:\n",
      "1: Bruno\n",
      "2: Carlos - Agente de Turismo\n",
      "(Carlos - Agente de Turismo) Carlos - Agente de Turismo:\n",
      "Bruno, fico feliz em saber que você gostou das opções que eu sugeri para a Argentina. Em relação aos restaurantes, Buenos Aires é conhecida por sua excelente gastronomia. Um dos restaurantes mais renomados é o \"El Pobre Luis\", que serve deliciosas carnes argentinas. Outra opção é o \"La Cabrera\", que oferece cortes de carne suculentos e acompanhamentos saborosos. Se você gosta de frutos do mar, recomendo o \"Fishers Restaurante\" ou o \"Crizia Restô\". Ambos são excelentes escolhas. Espero que isso ajude!\n",
      "Parando o chat...\n",
      "Chat finalizado. Resumo da conversa: \n",
      "Parando o chat...\n",
      "Chat finalizado. Resumo da conversa: \n"
     ]
    }
   ],
   "source": [
    "# Criar agentes\n",
    "agente1 = HumanAgent(\"Bruno\", \"Você é cliente que ama viajar.\")\n",
    "agente2 = AutomatedAgent(\"Carlos - Agente de Turismo\", \"Você é um agente de turismo.\")\n",
    "\n",
    "\n",
    "mestre = HumanMestre(\"Mestre Automatizado\")\n",
    "\n",
    "# Configurar o chat\n",
    "chat = Chat(\"Discutir um destino de viagem\", \"chat\")\n",
    "chat.adicionar_participante(agente1)\n",
    "chat.adicionar_participante(agente2)\n",
    "# chat.adicionar_participante(agenteHumano) # Descomente se tiver um agente humano\n",
    "chat.mestre = mestre\n",
    "\n",
    "# Iniciar o chat\n",
    "chat.run()\n"
   ]
  },
  {
   "cell_type": "code",
   "execution_count": null,
   "metadata": {},
   "outputs": [
    {
     "data": {
      "text/plain": [
       "[{'role': 'Bruno',\n",
       "  'content': 'Fala carlos, tudo bem? gostaria de marcar uma viagem para a Argentina, o que você me recomenda?'},\n",
       " {'role': 'Carlos - Agente de Turismo',\n",
       "  'content': 'Bruno, tudo bem? Fico feliz em saber que você está interessado em viajar para a Argentina. Este país tem muitas opções incríveis para explorar. Para começar, eu recomendaria a cidade de Buenos Aires. É uma cidade vibrante, cheia de cultura, arquitetura histórica, tango e uma comida deliciosa. Você pode visitar pontos turísticos como a Casa Rosada, o bairro de San Telmo e o famoso Teatro Colón. Se você gosta de vinho, não pode deixar de visitar Mendoza, que é famosa por suas vinícolas e degustações. Outro lugar imperdível é a região da Patagônia, com suas paisagens deslumbrantes e a possibilidade de fazer trekkings incríveis. O que você acha dessas opções?'},\n",
       " {'role': 'Bruno',\n",
       "  'content': 'Gostei da sugestão, qual melhor restaurante de lá?'},\n",
       " {'role': 'Carlos - Agente de Turismo',\n",
       "  'content': 'Carlos - Agente de Turismo:\\nBruno, fico feliz em saber que você gostou das opções que eu sugeri para a Argentina. Em relação aos restaurantes, Buenos Aires é conhecida por sua excelente gastronomia. Um dos restaurantes mais renomados é o \"El Pobre Luis\", que serve deliciosas carnes argentinas. Outra opção é o \"La Cabrera\", que oferece cortes de carne suculentos e acompanhamentos saborosos. Se você gosta de frutos do mar, recomendo o \"Fishers Restaurante\" ou o \"Crizia Restô\". Ambos são excelentes escolhas. Espero que isso ajude!'}]"
      ]
     },
     "execution_count": 4,
     "metadata": {},
     "output_type": "execute_result"
    }
   ],
   "source": [
    "chat.conversa"
   ]
  },
  {
   "cell_type": "code",
   "execution_count": null,
   "metadata": {},
   "outputs": [],
   "source": []
  }
 ],
 "metadata": {
  "kernelspec": {
   "display_name": ".venv",
   "language": "python",
   "name": "python3"
  },
  "language_info": {
   "codemirror_mode": {
    "name": "ipython",
    "version": 3
   },
   "file_extension": ".py",
   "mimetype": "text/x-python",
   "name": "python",
   "nbconvert_exporter": "python",
   "pygments_lexer": "ipython3",
   "version": "3.11.6"
  }
 },
 "nbformat": 4,
 "nbformat_minor": 2
}
