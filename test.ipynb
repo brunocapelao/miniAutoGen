{
 "cells": [
  {
   "cell_type": "code",
   "execution_count": 1,
   "metadata": {},
   "outputs": [
    {
     "name": "stderr",
     "output_type": "stream",
     "text": [
      "INFO:chatadmin:Chat Admin started.\n"
     ]
    },
    {
     "name": "stdout",
     "output_type": "stream",
     "text": [
      "Teste\n",
      "Teste\n"
     ]
    },
    {
     "name": "stderr",
     "output_type": "stream",
     "text": [
      "INFO:chatadmin:Chat Admin stopped.\n",
      "INFO:chatadmin:Chat Admin stopped.\n",
      "INFO:chatadmin:Chat Admin is running.\n"
     ]
    },
    {
     "name": "stdout",
     "output_type": "stream",
     "text": [
      "Terminate\n",
      "Encerrando chat...\n"
     ]
    }
   ],
   "source": [
    "# Supondo que os módulos agent.py e groupchat.py estejam disponíveis\n",
    "import sys\n",
    "sys.path.append('.')\n",
    "from chat import Chat\n",
    "from agent import Agent\n",
    "from chatadmin import ChatAdmin\n",
    "from pipeline.pipeline import Pipeline\n",
    "from pipeline.components import UserResponseComponent, NextAgentSelectorComponent, AgentReplyComponent, OpenAIChatComponent, UserInputNextAgent, TerminateChatComponent\n",
    "\n",
    "pipeline_admin = Pipeline([NextAgentSelectorComponent(), AgentReplyComponent(), TerminateChatComponent()])\n",
    "\n",
    "# Setup do ambiente de teste\n",
    "chat = Chat()\n",
    "json_data = {\n",
    "    'agent_id': 'Bruno',\n",
    "    'name': 'Bruno',\n",
    "    'role': 'user'\n",
    "}\n",
    "\n",
    "# Supondo que você tenha uma instância de Pipeline chamada 'my_pipeline'\n",
    "agent1 = Agent.from_json(json_data, Pipeline([UserResponseComponent()]))\n",
    "\n",
    "\n",
    "\n",
    "agent2 = Agent(\"dev\", \"Carlos\", \"\"\"\n",
    "Role and Goal: This GPT is a senior Python developer with extensive experience in software architecture. It assists users in development, focusing on architecture and technology choices, and provides elaborate explanations with examples, balancing innovative solutions with well-established methods. The GPT adopts a friendly and approachable tone in its interactions.\n",
    "\n",
    "Constraints: The GPT should avoid providing outdated or incorrect programming advice. It should not offer legal or financial counsel.\n",
    "\n",
    "Guidelines: The GPT should offer detailed insights based on current best practices in Python and software architecture, using a friendly and accessible language style. It should provide in-depth explanations and practical examples in a conversational manner.\n",
    "\n",
    "Clarification: The GPT should ask for specific details about the user's project to offer tailored and comprehensive advice in an engaging, friendly manner.\n",
    "\n",
    "Personalization: The GPT should display characteristics of a senior developer, such as expertise and thoughtfulness, with a focus on practical and balanced solutions, communicated in a friendly, approachable tone.\n",
    "\"\"\", Pipeline([UserResponseComponent()]))\n",
    "\n",
    "\n",
    "chat.add_agent(agent1)\n",
    "chat.add_agent(agent2)\n",
    "\n",
    "\n",
    "json_messages = [\n",
    "    {'sender_id': 'user4', 'message': 'Que bom ouvir isso!'},\n",
    "    {'sender_id': 'user5', 'message': 'Vamos continuar conversando.', 'additional_info': {'topic': 'chat'}},\n",
    "]\n",
    "\n",
    "chat.add_messages(json_messages)\n",
    "\n",
    "chat_admin = ChatAdmin(\"admin\", \"Admin\", \"admin_role\", pipeline_admin, chat, \"manage_chat\", 10)\n",
    "\n",
    "# Executando o GroupChatAdmin\n",
    "chat_admin.run()\n"
   ]
  },
  {
   "cell_type": "code",
   "execution_count": 2,
   "metadata": {},
   "outputs": [
    {
     "data": {
      "text/html": [
       "<div>\n",
       "<style scoped>\n",
       "    .dataframe tbody tr th:only-of-type {\n",
       "        vertical-align: middle;\n",
       "    }\n",
       "\n",
       "    .dataframe tbody tr th {\n",
       "        vertical-align: top;\n",
       "    }\n",
       "\n",
       "    .dataframe thead th {\n",
       "        text-align: right;\n",
       "    }\n",
       "</style>\n",
       "<table border=\"1\" class=\"dataframe\">\n",
       "  <thead>\n",
       "    <tr style=\"text-align: right;\">\n",
       "      <th></th>\n",
       "      <th>id</th>\n",
       "      <th>sender_id</th>\n",
       "      <th>message</th>\n",
       "      <th>timestamp</th>\n",
       "      <th>additional_info</th>\n",
       "    </tr>\n",
       "  </thead>\n",
       "  <tbody>\n",
       "    <tr>\n",
       "      <th>0</th>\n",
       "      <td>1</td>\n",
       "      <td>user4</td>\n",
       "      <td>Que bom ouvir isso!</td>\n",
       "      <td>2023-12-27 08:40:27.559729</td>\n",
       "      <td>None</td>\n",
       "    </tr>\n",
       "    <tr>\n",
       "      <th>1</th>\n",
       "      <td>2</td>\n",
       "      <td>user5</td>\n",
       "      <td>Vamos continuar conversando.</td>\n",
       "      <td>2023-12-27 08:40:27.561316</td>\n",
       "      <td>{'topic': 'chat'}</td>\n",
       "    </tr>\n",
       "    <tr>\n",
       "      <th>2</th>\n",
       "      <td>3</td>\n",
       "      <td>Bruno</td>\n",
       "      <td>Teste</td>\n",
       "      <td>2023-12-27 08:40:29.950126</td>\n",
       "      <td>None</td>\n",
       "    </tr>\n",
       "    <tr>\n",
       "      <th>3</th>\n",
       "      <td>4</td>\n",
       "      <td>dev</td>\n",
       "      <td>Teste</td>\n",
       "      <td>2023-12-27 08:40:31.924071</td>\n",
       "      <td>None</td>\n",
       "    </tr>\n",
       "    <tr>\n",
       "      <th>4</th>\n",
       "      <td>5</td>\n",
       "      <td>Bruno</td>\n",
       "      <td>Terminate</td>\n",
       "      <td>2023-12-27 08:40:33.515896</td>\n",
       "      <td>None</td>\n",
       "    </tr>\n",
       "  </tbody>\n",
       "</table>\n",
       "</div>"
      ],
      "text/plain": [
       "   id sender_id                       message                  timestamp  \\\n",
       "0   1     user4           Que bom ouvir isso! 2023-12-27 08:40:27.559729   \n",
       "1   2     user5  Vamos continuar conversando. 2023-12-27 08:40:27.561316   \n",
       "2   3     Bruno                         Teste 2023-12-27 08:40:29.950126   \n",
       "3   4       dev                         Teste 2023-12-27 08:40:31.924071   \n",
       "4   5     Bruno                     Terminate 2023-12-27 08:40:33.515896   \n",
       "\n",
       "     additional_info  \n",
       "0               None  \n",
       "1  {'topic': 'chat'}  \n",
       "2               None  \n",
       "3               None  \n",
       "4               None  "
      ]
     },
     "execution_count": 2,
     "metadata": {},
     "output_type": "execute_result"
    }
   ],
   "source": [
    "chat.get_messages()"
   ]
  },
  {
   "cell_type": "code",
   "execution_count": null,
   "metadata": {},
   "outputs": [],
   "source": []
  }
 ],
 "metadata": {
  "kernelspec": {
   "display_name": ".venv",
   "language": "python",
   "name": "python3"
  },
  "language_info": {
   "codemirror_mode": {
    "name": "ipython",
    "version": 3
   },
   "file_extension": ".py",
   "mimetype": "text/x-python",
   "name": "python",
   "nbconvert_exporter": "python",
   "pygments_lexer": "ipython3",
   "version": "3.11.6"
  }
 },
 "nbformat": 4,
 "nbformat_minor": 2
}
