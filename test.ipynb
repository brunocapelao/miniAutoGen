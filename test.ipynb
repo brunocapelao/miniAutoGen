{
 "cells": [
  {
   "cell_type": "code",
   "execution_count": 1,
   "metadata": {},
   "outputs": [
    {
     "name": "stderr",
     "output_type": "stream",
     "text": [
      "INFO:chatadmin:Chat Admin started.\n"
     ]
    },
    {
     "name": "stdout",
     "output_type": "stream",
     "text": [
      "Teste\n"
     ]
    },
    {
     "name": "stderr",
     "output_type": "stream",
     "text": [
      "INFO:chatadmin:Chat Admin stopped.\n",
      "INFO:chatadmin:Chat Admin stopped.\n",
      "INFO:chatadmin:Chat Admin is running.\n"
     ]
    },
    {
     "name": "stdout",
     "output_type": "stream",
     "text": [
      "Terminate\n",
      "Encerrando chat...\n"
     ]
    }
   ],
   "source": [
    "# Supondo que os módulos agent.py e groupchat.py estejam disponíveis\n",
    "import sys\n",
    "sys.path.append('.')\n",
    "from chat import Chat\n",
    "from agent import Agent\n",
    "from chatadmin import ChatAdmin\n",
    "from pipeline.pipeline import Pipeline\n",
    "from pipeline.components import UserResponseComponent, NextAgentSelectorComponent, AgentReplyComponent, OpenAIChatComponent, UserInputNextAgent, TerminateChatComponent\n",
    "\n",
    "pipeline_admin = Pipeline([NextAgentSelectorComponent(), AgentReplyComponent(), TerminateChatComponent()])\n",
    "\n",
    "# Setup do ambiente de teste\n",
    "chat = Chat()\n",
    "agent1 = Agent(\"pm\", \"Bruno\",\"Product Manager\", Pipeline([UserResponseComponent()]))\n",
    "\n",
    "\n",
    "agent2 = Agent(\"dev\", \"Carlos\", \"\"\"\n",
    "Role and Goal: This GPT is a senior Python developer with extensive experience in software architecture. It assists users in development, focusing on architecture and technology choices, and provides elaborate explanations with examples, balancing innovative solutions with well-established methods. The GPT adopts a friendly and approachable tone in its interactions.\n",
    "\n",
    "Constraints: The GPT should avoid providing outdated or incorrect programming advice. It should not offer legal or financial counsel.\n",
    "\n",
    "Guidelines: The GPT should offer detailed insights based on current best practices in Python and software architecture, using a friendly and accessible language style. It should provide in-depth explanations and practical examples in a conversational manner.\n",
    "\n",
    "Clarification: The GPT should ask for specific details about the user's project to offer tailored and comprehensive advice in an engaging, friendly manner.\n",
    "\n",
    "Personalization: The GPT should display characteristics of a senior developer, such as expertise and thoughtfulness, with a focus on practical and balanced solutions, communicated in a friendly, approachable tone.\n",
    "\"\"\", Pipeline([UserResponseComponent()]))\n",
    "\n",
    "\n",
    "chat.add_agent(agent1)\n",
    "chat.add_agent(agent2)\n",
    "\n",
    "\n",
    "json_messages = [\n",
    "    {'sender_id': 'user4', 'message': 'Que bom ouvir isso!'},\n",
    "    {'sender_id': 'user5', 'message': 'Vamos continuar conversando.', 'additional_info': {'topic': 'chat'}},\n",
    "]\n",
    "\n",
    "chat.add_messages(json_messages)\n",
    "\n",
    "chat_admin = ChatAdmin(\"admin\", \"Admin\", \"admin_role\", pipeline_admin, chat, \"manage_chat\", 10)\n",
    "\n",
    "# Executando o GroupChatAdmin\n",
    "chat_admin.run()\n"
   ]
  },
  {
   "cell_type": "code",
   "execution_count": null,
   "metadata": {},
   "outputs": [],
   "source": []
  }
 ],
 "metadata": {
  "kernelspec": {
   "display_name": ".venv",
   "language": "python",
   "name": "python3"
  },
  "language_info": {
   "codemirror_mode": {
    "name": "ipython",
    "version": 3
   },
   "file_extension": ".py",
   "mimetype": "text/x-python",
   "name": "python",
   "nbconvert_exporter": "python",
   "pygments_lexer": "ipython3",
   "version": "3.11.6"
  }
 },
 "nbformat": 4,
 "nbformat_minor": 2
}
