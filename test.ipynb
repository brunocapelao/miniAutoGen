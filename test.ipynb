{
 "cells": [
  {
   "cell_type": "code",
   "execution_count": 1,
   "metadata": {},
   "outputs": [],
   "source": [
    "# Supondo que os módulos agent.py e groupchat.py estejam disponíveis\n",
    "import sys\n",
    "sys.path.append('.')\n",
    "from chat import Chat\n",
    "from agent import Agent\n",
    "from chatadmin import ChatAdmin\n",
    "from pipeline.pipeline import Pipeline\n",
    "from pipeline.components import (\n",
    "    UserResponseComponent, \n",
    "    NextAgentSelectorComponent, \n",
    "    AgentReplyComponent, \n",
    "    TerminateChatComponent, \n",
    "    UserInputNextAgent, \n",
    "    OpenAIChatComponent,\n",
    "    OpenAIThreadComponent  # Adiciona a importação do novo componente\n",
    ")\n",
    "\n",
    "\n",
    "# Instanciação do componente\n",
    "openai_thread_component = OpenAIThreadComponent()\n",
    "\n",
    "# Configuração do assistant_id\n",
    "openai_thread_component.set_assistant_id('asst_2YhkVro5x2C0IoUoylfkjrgN')\n",
    "\n",
    "# Criação do pipeline com o componente configurado\n",
    "pipeline_thread = Pipeline([openai_thread_component])\n",
    "\n",
    "\n",
    "# Configuração dos Pipelines\n",
    "pipeline_user = Pipeline([UserResponseComponent()])\n",
    "pipeline_llm = Pipeline([OpenAIChatComponent()])\n",
    "pipeline_admin = Pipeline([NextAgentSelectorComponent(), AgentReplyComponent(), TerminateChatComponent()])\n",
    "\n",
    "# Setup do ambiente de teste\n",
    "chat = Chat()\n",
    "json_data = {\n",
    "    'agent_id': 'Bruno',\n",
    "    'name': 'Bruno',\n",
    "    'role': 'user'\n",
    "}\n",
    "\n",
    "# Criação de Agentes\n",
    "agent1 = Agent.from_json(json_data)\n",
    "agent1.pipeline = pipeline_user  # Atribuindo o pipeline ao agente\n",
    "\n",
    "# agent2 = Agent(\"dev\", \"Carlos\", \"Python senior Developer\")\n",
    "# agent2.pipeline = pipeline_user  # Atribuindo o pipeline_llm ao segundo agente\n",
    "\n",
    "agent3 = Agent(\"assistant\", \"OpenAI Assistant\", \"OpenAI Agent\")\n",
    "agent3.pipeline = pipeline_thread  # Atribuindo o pipeline_thread ao terceiro agente\n",
    "\n",
    "# Adicionando os agentes ao chat\n",
    "chat.add_agent(agent1)\n",
    "# chat.add_agent(agent2)\n",
    "chat.add_agent(agent3)\n",
    "\n",
    "# Adição de mensagens de teste ao chat\n",
    "json_messages = [\n",
    "    {'sender_id': 'user4', 'message': 'Que bom ouvir isso!'},\n",
    "    {'sender_id': 'user5', 'message': 'Vamos continuar conversando.', 'additional_info': {'topic': 'chat'}},\n",
    "]\n",
    "chat.add_messages(json_messages)\n",
    "\n",
    "# Criação e configuração do ChatAdmin\n",
    "chat_admin = ChatAdmin(\"admin\", \"Admin\", \"admin_role\", pipeline_admin, chat, \"manage_chat\", 10)\n",
    "\n",
    "\n"
   ]
  },
  {
   "cell_type": "code",
   "execution_count": 2,
   "metadata": {},
   "outputs": [
    {
     "data": {
      "text/plain": [
       "'asst_2YhkVro5x2C0IoUoylfkjrgN'"
      ]
     },
     "execution_count": 2,
     "metadata": {},
     "output_type": "execute_result"
    }
   ],
   "source": [
    "openai_thread_component.assistant_id"
   ]
  },
  {
   "cell_type": "code",
   "execution_count": 3,
   "metadata": {},
   "outputs": [
    {
     "name": "stderr",
     "output_type": "stream",
     "text": [
      "INFO:chatadmin:Chat Admin started.\n",
      "INFO:chatadmin:Executing round 1\n",
      "INFO:chatadmin:Executing round 2\n"
     ]
    },
    {
     "name": "stdout",
     "output_type": "stream",
     "text": [
      "Quem é voce?\n"
     ]
    },
    {
     "name": "stderr",
     "output_type": "stream",
     "text": [
      "INFO:httpx:HTTP Request: POST https://api.openai.com/v1/threads \"HTTP/1.1 200 OK\"\n",
      "INFO:httpx:HTTP Request: POST https://api.openai.com/v1/threads/thread_qnyczWqVqh03bNsnhLilljES/messages \"HTTP/1.1 200 OK\"\n",
      "INFO:httpx:HTTP Request: POST https://api.openai.com/v1/threads/thread_qnyczWqVqh03bNsnhLilljES/runs \"HTTP/1.1 200 OK\"\n",
      "INFO:httpx:HTTP Request: GET https://api.openai.com/v1/threads/thread_qnyczWqVqh03bNsnhLilljES/runs/run_cW8GhD39cJezt7SEeNYDmYkN \"HTTP/1.1 200 OK\"\n",
      "INFO:httpx:HTTP Request: GET https://api.openai.com/v1/threads/thread_qnyczWqVqh03bNsnhLilljES/runs/run_cW8GhD39cJezt7SEeNYDmYkN \"HTTP/1.1 200 OK\"\n",
      "INFO:httpx:HTTP Request: GET https://api.openai.com/v1/threads/thread_qnyczWqVqh03bNsnhLilljES/runs/run_cW8GhD39cJezt7SEeNYDmYkN \"HTTP/1.1 200 OK\"\n",
      "INFO:httpx:HTTP Request: GET https://api.openai.com/v1/threads/thread_qnyczWqVqh03bNsnhLilljES/runs/run_cW8GhD39cJezt7SEeNYDmYkN \"HTTP/1.1 200 OK\"\n",
      "INFO:httpx:HTTP Request: GET https://api.openai.com/v1/threads/thread_qnyczWqVqh03bNsnhLilljES/runs/run_cW8GhD39cJezt7SEeNYDmYkN \"HTTP/1.1 200 OK\"\n",
      "INFO:httpx:HTTP Request: GET https://api.openai.com/v1/threads/thread_qnyczWqVqh03bNsnhLilljES/runs/run_cW8GhD39cJezt7SEeNYDmYkN \"HTTP/1.1 200 OK\"\n",
      "INFO:httpx:HTTP Request: GET https://api.openai.com/v1/threads/thread_qnyczWqVqh03bNsnhLilljES/runs/run_cW8GhD39cJezt7SEeNYDmYkN \"HTTP/1.1 200 OK\"\n",
      "INFO:httpx:HTTP Request: GET https://api.openai.com/v1/threads/thread_qnyczWqVqh03bNsnhLilljES/runs/run_cW8GhD39cJezt7SEeNYDmYkN \"HTTP/1.1 200 OK\"\n",
      "INFO:httpx:HTTP Request: GET https://api.openai.com/v1/threads/thread_qnyczWqVqh03bNsnhLilljES/runs/run_cW8GhD39cJezt7SEeNYDmYkN \"HTTP/1.1 200 OK\"\n",
      "INFO:httpx:HTTP Request: GET https://api.openai.com/v1/threads/thread_qnyczWqVqh03bNsnhLilljES/runs/run_cW8GhD39cJezt7SEeNYDmYkN \"HTTP/1.1 200 OK\"\n",
      "INFO:httpx:HTTP Request: GET https://api.openai.com/v1/threads/thread_qnyczWqVqh03bNsnhLilljES/runs/run_cW8GhD39cJezt7SEeNYDmYkN \"HTTP/1.1 200 OK\"\n",
      "INFO:httpx:HTTP Request: GET https://api.openai.com/v1/threads/thread_qnyczWqVqh03bNsnhLilljES/runs/run_cW8GhD39cJezt7SEeNYDmYkN \"HTTP/1.1 200 OK\"\n",
      "INFO:httpx:HTTP Request: GET https://api.openai.com/v1/threads/thread_qnyczWqVqh03bNsnhLilljES/messages?order=asc \"HTTP/1.1 200 OK\"\n",
      "INFO:chatadmin:Executing round 3\n"
     ]
    },
    {
     "name": "stdout",
     "output_type": "stream",
     "text": [
      "Olá! Sou um modelo de linguagem GPT desenvolvido pela OpenAI, especializado como um desenvolvedor sênior de Python com vasta experiência em arquitetura de software. Estou aqui para ajudar você com o desenvolvimento e com escolhas de arquitetura e tecnologia, oferecendo explicações detalhadas e exemplos práticos. Meu objetivo é fornecer soluções inovadoras enquanto também respeito métodos bem estabelecidos. Como posso ajudar você hoje?\n"
     ]
    }
   ],
   "source": [
    "# Executando o ChatAdmin\n",
    "chat_admin.run()"
   ]
  },
  {
   "cell_type": "code",
   "execution_count": 1,
   "metadata": {},
   "outputs": [
    {
     "ename": "NameError",
     "evalue": "name 'chat' is not defined",
     "output_type": "error",
     "traceback": [
      "\u001b[0;31m---------------------------------------------------------------------------\u001b[0m",
      "\u001b[0;31mNameError\u001b[0m                                 Traceback (most recent call last)",
      "Cell \u001b[0;32mIn[1], line 1\u001b[0m\n\u001b[0;32m----> 1\u001b[0m \u001b[43mchat\u001b[49m\u001b[38;5;241m.\u001b[39mget_messages(\u001b[38;5;124m'\u001b[39m\u001b[38;5;124mjson\u001b[39m\u001b[38;5;124m'\u001b[39m)\n",
      "\u001b[0;31mNameError\u001b[0m: name 'chat' is not defined"
     ]
    }
   ],
   "source": [
    "chat.get_messages('json')"
   ]
  },
  {
   "cell_type": "code",
   "execution_count": null,
   "metadata": {},
   "outputs": [],
   "source": []
  }
 ],
 "metadata": {
  "kernelspec": {
   "display_name": ".venv",
   "language": "python",
   "name": "python3"
  },
  "language_info": {
   "codemirror_mode": {
    "name": "ipython",
    "version": 3
   },
   "file_extension": ".py",
   "mimetype": "text/x-python",
   "name": "python",
   "nbconvert_exporter": "python",
   "pygments_lexer": "ipython3",
   "version": "3.11.6"
  }
 },
 "nbformat": 4,
 "nbformat_minor": 2
}
